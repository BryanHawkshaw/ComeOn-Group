{
 "cells": [
  {
   "cell_type": "markdown",
   "metadata": {},
   "source": [
    "The hypothesis:\n",
    "\n",
    "Null Hypothesis (H0): The design does not increase conversion rates.\n",
    "\n",
    "Alternative Hypothesis (H1): The new design increases conversion rates."
   ]
  },
  {
   "cell_type": "code",
   "execution_count": 9,
   "metadata": {},
   "outputs": [],
   "source": [
    "import pandas as pd\n",
    "import numpy as np\n",
    "import matplotlib.pyplot as plt\n",
    "import seaborn as sns\n",
    "from statsmodels.stats.proportion import proportions_ztest\n"
   ]
  },
  {
   "cell_type": "code",
   "execution_count": 10,
   "metadata": {},
   "outputs": [
    {
     "data": {
      "text/html": [
       "<div>\n",
       "<style scoped>\n",
       "    .dataframe tbody tr th:only-of-type {\n",
       "        vertical-align: middle;\n",
       "    }\n",
       "\n",
       "    .dataframe tbody tr th {\n",
       "        vertical-align: top;\n",
       "    }\n",
       "\n",
       "    .dataframe thead th {\n",
       "        text-align: right;\n",
       "    }\n",
       "</style>\n",
       "<table border=\"1\" class=\"dataframe\">\n",
       "  <thead>\n",
       "    <tr style=\"text-align: right;\">\n",
       "      <th></th>\n",
       "      <th>group</th>\n",
       "      <th>converted</th>\n",
       "    </tr>\n",
       "  </thead>\n",
       "  <tbody>\n",
       "    <tr>\n",
       "      <th>0</th>\n",
       "      <td>control</td>\n",
       "      <td>0</td>\n",
       "    </tr>\n",
       "    <tr>\n",
       "      <th>1</th>\n",
       "      <td>control</td>\n",
       "      <td>1</td>\n",
       "    </tr>\n",
       "    <tr>\n",
       "      <th>2</th>\n",
       "      <td>control</td>\n",
       "      <td>0</td>\n",
       "    </tr>\n",
       "    <tr>\n",
       "      <th>3</th>\n",
       "      <td>control</td>\n",
       "      <td>0</td>\n",
       "    </tr>\n",
       "    <tr>\n",
       "      <th>4</th>\n",
       "      <td>control</td>\n",
       "      <td>0</td>\n",
       "    </tr>\n",
       "  </tbody>\n",
       "</table>\n",
       "</div>"
      ],
      "text/plain": [
       "     group  converted\n",
       "0  control          0\n",
       "1  control          1\n",
       "2  control          0\n",
       "3  control          0\n",
       "4  control          0"
      ]
     },
     "execution_count": 10,
     "metadata": {},
     "output_type": "execute_result"
    }
   ],
   "source": [
    "#Simulate data\n",
    "np.random.seed(42)\n",
    "data_size = 1000\n",
    "control_group = pd.DataFrame({\n",
    "    'group': 'control',\n",
    "    'converted': np.random.binomial(1, 0.1, data_size) #10% conversion rate\n",
    "})\n",
    "treatment_group = pd.DataFrame({\n",
    "    'group': 'treatment',\n",
    "    'converted': np.random.binomial(1, 0.12, data_size) #12% conversion rate\n",
    "})\n",
    "\n",
    "data = pd.concat([control_group, treatment_group]).reset_index(drop=True)\n",
    "data.head()"
   ]
  },
  {
   "cell_type": "code",
   "execution_count": 11,
   "metadata": {},
   "outputs": [
    {
     "data": {
      "text/html": [
       "<div>\n",
       "<style scoped>\n",
       "    .dataframe tbody tr th:only-of-type {\n",
       "        vertical-align: middle;\n",
       "    }\n",
       "\n",
       "    .dataframe tbody tr th {\n",
       "        vertical-align: top;\n",
       "    }\n",
       "\n",
       "    .dataframe thead th {\n",
       "        text-align: right;\n",
       "    }\n",
       "</style>\n",
       "<table border=\"1\" class=\"dataframe\">\n",
       "  <thead>\n",
       "    <tr style=\"text-align: right;\">\n",
       "      <th></th>\n",
       "      <th>group</th>\n",
       "      <th>conversion_rate</th>\n",
       "    </tr>\n",
       "  </thead>\n",
       "  <tbody>\n",
       "    <tr>\n",
       "      <th>0</th>\n",
       "      <td>control</td>\n",
       "      <td>0.100</td>\n",
       "    </tr>\n",
       "    <tr>\n",
       "      <th>1</th>\n",
       "      <td>treatment</td>\n",
       "      <td>0.112</td>\n",
       "    </tr>\n",
       "  </tbody>\n",
       "</table>\n",
       "</div>"
      ],
      "text/plain": [
       "       group  conversion_rate\n",
       "0    control            0.100\n",
       "1  treatment            0.112"
      ]
     },
     "execution_count": 11,
     "metadata": {},
     "output_type": "execute_result"
    }
   ],
   "source": [
    "conversion_rates = data.groupby('group')['converted'].mean().reset_index()\n",
    "conversion_rates.columns = ['group', 'conversion_rate']\n",
    "conversion_rates"
   ]
  },
  {
   "cell_type": "code",
   "execution_count": 12,
   "metadata": {},
   "outputs": [
    {
     "data": {
      "image/png": "[encoded data removed]",
      "text/plain": [
       "<Figure size 640x480 with 1 Axes>"
      ]
     },
     "metadata": {},
     "output_type": "display_data"
    }
   ],
   "source": [
    "sns.barplot(x='group', y='conversion_rate', data=conversion_rates)\n",
    "plt.title('Conversion Rates By Group')\n",
    "plt.show()"
   ]
  },
  {
   "cell_type": "code",
   "execution_count": 13,
   "metadata": {},
   "outputs": [
    {
     "name": "stdout",
     "output_type": "stream",
     "text": [
      "Z-Statistic: 0.8716548604640172, P-value: 0.3833966925145822\n"
     ]
    }
   ],
   "source": [
    "control_conversions = data[data['group'] == 'control']['converted'].sum()\n",
    "treatment_conversions = data[data['group'] == 'treatment']['converted'].sum()\n",
    "n_control = data[data['group'] == 'control'].shape[0]\n",
    "n_treatment = data[data['group'] == 'treatment'].shape[0]\n",
    "\n",
    "z_stat, p_value = proportions_ztest([treatment_conversions, control_conversions], [n_treatment, n_control])\n",
    "print(f'Z-Statistic: {z_stat}, P-value: {p_value}')"
   ]
  },
  {
   "cell_type": "code",
   "execution_count": 14,
   "metadata": {},
   "outputs": [
    {
     "name": "stdout",
     "output_type": "stream",
     "text": [
      "Fail to reject the null hypothesis. No significant difference in conversion rates.\n"
     ]
    }
   ],
   "source": [
    "alpha = 0.05\n",
    "if p_value < alpha:\n",
    "    print(\"Reject the null hyphothesis. The new design increases conversion rates.\")\n",
    "else:\n",
    "    print(\"Fail to reject the null hypothesis. No significant difference in conversion rates.\")"
   ]
  },
  {
   "cell_type": "markdown",
   "metadata": {},
   "source": [
    "# A/B Testing for Conversion Rate Optimization\n",
    "\n",
    "**Objective**: To determine if the new design increases conversion rates.\n",
    "\n",
    "**Hypothesis**:\n",
    "- H0: The new design does not increase conversion rates.\n",
    "- H1: The new design increases conversion rates.\n",
    "\n",
    "**Results**:\n",
    "- Control group conversion rate: 10%\n",
    "- Treatment group conversion rate: 11.2%\n",
    "- Z-Statistic: Z\n",
    "- P-Value: P\n",
    "\n",
    "**Conclusion**: Based on the p-value, we fail to reject the null hypothesis, indicating no significant difference in conversion rates.\n"
   ]
  }
 ],
 "metadata": {
  "kernelspec": {
   "display_name": "comegenv",
   "language": "python",
   "name": "python3"
  },
  "language_info": {
   "codemirror_mode": {
    "name": "ipython",
    "version": 3
   },
   "file_extension": ".py",
   "mimetype": "text/x-python",
   "name": "python",
   "nbconvert_exporter": "python",
   "pygments_lexer": "ipython3",
   "version": "3.12.4"
  }
 },
 "nbformat": 4,
 "nbformat_minor": 2
}
